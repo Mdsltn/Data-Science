{
 "cells": [
  {
   "cell_type": "markdown",
   "metadata": {},
   "source": [
    "# "
   ]
  },
  {
   "cell_type": "markdown",
   "metadata": {
    "id": "OvcrwSh8ScDF"
   },
   "source": [
    "#Starting!!"
   ]
  },
  {
   "cell_type": "markdown",
   "metadata": {
    "id": "hQdNc-IL24sw"
   },
   "source": [
    "Day 1&2"
   ]
  },
  {
   "cell_type": "code",
   "execution_count": 6,
   "metadata": {
    "id": "lOkiqJFZ279x"
   },
   "outputs": [],
   "source": [
    "a=10\n",
    "b='20'"
   ]
  },
  {
   "cell_type": "code",
   "execution_count": 7,
   "metadata": {
    "colab": {
     "base_uri": "https://localhost:8080/"
    },
    "id": "Ch4JIxDA5jdr",
    "outputId": "3be6126f-f231-4725-ba18-51f5cdb2a034"
   },
   "outputs": [
    {
     "data": {
      "text/plain": [
       "int"
      ]
     },
     "execution_count": 7,
     "metadata": {},
     "output_type": "execute_result"
    }
   ],
   "source": [
    "type(a)"
   ]
  },
  {
   "cell_type": "code",
   "execution_count": 8,
   "metadata": {
    "colab": {
     "base_uri": "https://localhost:8080/"
    },
    "id": "jC5CwzGq5laq",
    "outputId": "feba2ec1-a40a-487e-9224-9f147f931a45"
   },
   "outputs": [
    {
     "data": {
      "text/plain": [
       "str"
      ]
     },
     "execution_count": 8,
     "metadata": {},
     "output_type": "execute_result"
    }
   ],
   "source": [
    "type(b)"
   ]
  },
  {
   "cell_type": "code",
   "execution_count": 9,
   "metadata": {
    "colab": {
     "base_uri": "https://localhost:8080/"
    },
    "id": "jKFsrIV65nE5",
    "outputId": "20344ffe-c78f-4103-b385-845777c36164"
   },
   "outputs": [
    {
     "name": "stdout",
     "output_type": "stream",
     "text": [
      "My age is 31\n"
     ]
    }
   ],
   "source": [
    "age=31\n",
    "print(\"My age is\",age)"
   ]
  },
  {
   "cell_type": "code",
   "execution_count": 10,
   "metadata": {
    "colab": {
     "base_uri": "https://localhost:8080/"
    },
    "id": "L-Ar7ErTbtmM",
    "outputId": "3982d0e6-6620-4278-b03a-5320ded2983d"
   },
   "outputs": [
    {
     "name": "stdout",
     "output_type": "stream",
     "text": [
      "My age is 31\n"
     ]
    }
   ],
   "source": [
    "print(f\"My age is {age}\")"
   ]
  },
  {
   "cell_type": "code",
   "execution_count": 11,
   "metadata": {
    "colab": {
     "base_uri": "https://localhost:8080/"
    },
    "id": "NZCz-Yi8bwrK",
    "outputId": "30d370dd-8800-4afd-97f3-db1bed78e5b4"
   },
   "outputs": [
    {
     "name": "stdout",
     "output_type": "stream",
     "text": [
      "My name is Sulu and age is 31\n"
     ]
    }
   ],
   "source": [
    "name=\"Sulu\"\n",
    "age=31\n",
    "print(\"My name is {} and age is {}\".format(name,age))"
   ]
  },
  {
   "cell_type": "code",
   "execution_count": 12,
   "metadata": {
    "colab": {
     "base_uri": "https://localhost:8080/"
    },
    "id": "hdF9AFlldIgr",
    "outputId": "bf1a9ffb-9372-4f05-d6c6-fa36fb836e70"
   },
   "outputs": [
    {
     "name": "stdout",
     "output_type": "stream",
     "text": [
      "My age is 31 and I have completed: my degree of PG in DSBA with the name of Sulu\n"
     ]
    }
   ],
   "source": [
    "name=\"Sulu\"\n",
    "age=31\n",
    "degree=\"PG in DSBA\"\n",
    "print(f\"My age is {age} and I have completed: my degree of {degree} with the name of {name}\")"
   ]
  },
  {
   "cell_type": "code",
   "execution_count": 13,
   "metadata": {
    "colab": {
     "base_uri": "https://localhost:8080/"
    },
    "id": "b7SkBqbLeH8s",
    "outputId": "17331538-b935-401b-e400-70edfd92772a"
   },
   "outputs": [
    {
     "name": "stdout",
     "output_type": "stream",
     "text": [
      "My age is 31 and I have completed: my degree of PG in DSBA with the name of Sulu\n"
     ]
    }
   ],
   "source": [
    "print(\"My age is {} and I have completed: my degree of {} with the name of {}\".format(age,degree,name))"
   ]
  },
  {
   "cell_type": "code",
   "execution_count": 14,
   "metadata": {
    "colab": {
     "base_uri": "https://localhost:8080/",
     "height": 53
    },
    "id": "JZEGkDiYeUe7",
    "outputId": "b70c053f-fd6e-4491-df5c-ff8e7434c714"
   },
   "outputs": [
    {
     "name": "stdin",
     "output_type": "stream",
     "text": [
      "Age 25\n"
     ]
    },
    {
     "data": {
      "text/plain": [
       "'25'"
      ]
     },
     "execution_count": 14,
     "metadata": {},
     "output_type": "execute_result"
    }
   ],
   "source": [
    "input(\"Age\")"
   ]
  },
  {
   "cell_type": "code",
   "execution_count": 15,
   "metadata": {
    "id": "UGcU1XegXPUX"
   },
   "outputs": [
    {
     "name": "stdin",
     "output_type": "stream",
     "text": [
      "Age 25\n"
     ]
    }
   ],
   "source": [
    "Age = int(input(\"Age\"))"
   ]
  },
  {
   "cell_type": "code",
   "execution_count": 16,
   "metadata": {},
   "outputs": [
    {
     "name": "stdin",
     "output_type": "stream",
     "text": [
      "Enter Age 36\n"
     ]
    },
    {
     "name": "stdout",
     "output_type": "stream",
     "text": [
      "You are young blood\n"
     ]
    }
   ],
   "source": [
    "Age = int(input(\"Enter Age\"))\n",
    "if Age >= 18 and age <=32:\n",
    "    print(\"You are young blood\")"
   ]
  },
  {
   "cell_type": "code",
   "execution_count": 17,
   "metadata": {},
   "outputs": [
    {
     "name": "stdin",
     "output_type": "stream",
     "text": [
      "Enter Age 14\n"
     ]
    },
    {
     "name": "stdout",
     "output_type": "stream",
     "text": [
      "Not eligible\n"
     ]
    }
   ],
   "source": [
    "Age = int(input(\"Enter Age\"))\n",
    "if Age >= 18 and age <=32:\n",
    "    print(\"You are young blood\")\n",
    "else : \n",
    "    print (\"Not eligible\")"
   ]
  },
  {
   "cell_type": "code",
   "execution_count": 18,
   "metadata": {},
   "outputs": [
    {
     "name": "stdin",
     "output_type": "stream",
     "text": [
      "Enter bill amount 2000\n"
     ]
    },
    {
     "name": "stdout",
     "output_type": "stream",
     "text": [
      "You get 20% off and the total bill is 1600.0\n"
     ]
    }
   ],
   "source": [
    "abc = int(input(\"Enter bill amount\"))\n",
    "if abc > 1000 :\n",
    "          print(\"You get 20% off and the total bill is\",abc-(abc*0.2))\n",
    "else:\n",
    "    print(\"30% off and the total bill is\",abc-(abc*0.3))"
   ]
  },
  {
   "cell_type": "code",
   "execution_count": 19,
   "metadata": {},
   "outputs": [
    {
     "name": "stdin",
     "output_type": "stream",
     "text": [
      "Enter bill amount 2900\n"
     ]
    },
    {
     "name": "stdout",
     "output_type": "stream",
     "text": [
      "30% off and the total bill is 2030.0\n"
     ]
    }
   ],
   "source": [
    "abc = int(input(\"Enter bill amount\"))\n",
    "if abc > 3000 :\n",
    "          print(\"20% off and the total bill is\",abc-(abc*0.2))\n",
    "elif abc >= 2000 and abc <= 3000 :\n",
    "    if abc==2999 :\n",
    "        print(\"You won jackpot\")\n",
    "    print(\"30% off and the total bill is\",abc-(abc*0.3))\n",
    "else:\n",
    "    print(\"40% off and the total bill is\",abc-(abc*0.4))"
   ]
  },
  {
   "cell_type": "code",
   "execution_count": 37,
   "metadata": {},
   "outputs": [
    {
     "data": {
      "text/plain": [
       "'C:\\\\Users\\\\bfood'"
      ]
     },
     "execution_count": 37,
     "metadata": {},
     "output_type": "execute_result"
    }
   ],
   "source": [
    "import os\n",
    "os. getcwd()"
   ]
  },
  {
   "cell_type": "code",
   "execution_count": null,
   "metadata": {},
   "outputs": [],
   "source": []
  }
 ],
 "metadata": {
  "colab": {
   "provenance": []
  },
  "kernelspec": {
   "display_name": "Python 3 (ipykernel)",
   "language": "python",
   "name": "python3"
  },
  "language_info": {
   "codemirror_mode": {
    "name": "ipython",
    "version": 3
   },
   "file_extension": ".py",
   "mimetype": "text/x-python",
   "name": "python",
   "nbconvert_exporter": "python",
   "pygments_lexer": "ipython3",
   "version": "3.12.4"
  }
 },
 "nbformat": 4,
 "nbformat_minor": 4
}
