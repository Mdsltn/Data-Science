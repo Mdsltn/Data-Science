{
  "nbformat": 4,
  "nbformat_minor": 0,
  "metadata": {
    "colab": {
      "provenance": []
    },
    "kernelspec": {
      "name": "python3",
      "display_name": "Python 3"
    },
    "language_info": {
      "name": "python"
    }
  },
  "cells": [
    {
      "cell_type": "markdown",
      "source": [
        "#Starting!!"
      ],
      "metadata": {
        "id": "OvcrwSh8ScDF"
      }
    },
    {
      "cell_type": "markdown",
      "source": [
        "Day 1&2"
      ],
      "metadata": {
        "id": "hQdNc-IL24sw"
      }
    },
    {
      "cell_type": "code",
      "source": [
        "a=10\n",
        "b='20'"
      ],
      "metadata": {
        "id": "lOkiqJFZ279x"
      },
      "execution_count": 2,
      "outputs": []
    },
    {
      "cell_type": "code",
      "source": [
        "type(a)"
      ],
      "metadata": {
        "colab": {
          "base_uri": "https://localhost:8080/"
        },
        "id": "Ch4JIxDA5jdr",
        "outputId": "3be6126f-f231-4725-ba18-51f5cdb2a034"
      },
      "execution_count": 3,
      "outputs": [
        {
          "output_type": "execute_result",
          "data": {
            "text/plain": [
              "int"
            ]
          },
          "metadata": {},
          "execution_count": 3
        }
      ]
    },
    {
      "cell_type": "code",
      "source": [
        "type(b)"
      ],
      "metadata": {
        "colab": {
          "base_uri": "https://localhost:8080/"
        },
        "id": "jC5CwzGq5laq",
        "outputId": "feba2ec1-a40a-487e-9224-9f147f931a45"
      },
      "execution_count": 4,
      "outputs": [
        {
          "output_type": "execute_result",
          "data": {
            "text/plain": [
              "str"
            ]
          },
          "metadata": {},
          "execution_count": 4
        }
      ]
    },
    {
      "cell_type": "code",
      "source": [
        "age=31\n",
        "print(\"My age is\",age)"
      ],
      "metadata": {
        "colab": {
          "base_uri": "https://localhost:8080/"
        },
        "id": "jKFsrIV65nE5",
        "outputId": "20344ffe-c78f-4103-b385-845777c36164"
      },
      "execution_count": 5,
      "outputs": [
        {
          "output_type": "stream",
          "name": "stdout",
          "text": [
            "My age is 31\n"
          ]
        }
      ]
    },
    {
      "cell_type": "code",
      "source": [
        "print(f\"My age is {age}\")"
      ],
      "metadata": {
        "colab": {
          "base_uri": "https://localhost:8080/"
        },
        "id": "L-Ar7ErTbtmM",
        "outputId": "3982d0e6-6620-4278-b03a-5320ded2983d"
      },
      "execution_count": 6,
      "outputs": [
        {
          "output_type": "stream",
          "name": "stdout",
          "text": [
            "My age is 31\n"
          ]
        }
      ]
    },
    {
      "cell_type": "code",
      "source": [
        "name=\"Sulu\"\n",
        "age=31\n",
        "print(\"My name is {} and age is {}\".format(name,age))"
      ],
      "metadata": {
        "colab": {
          "base_uri": "https://localhost:8080/"
        },
        "id": "NZCz-Yi8bwrK",
        "outputId": "30d370dd-8800-4afd-97f3-db1bed78e5b4"
      },
      "execution_count": 7,
      "outputs": [
        {
          "output_type": "stream",
          "name": "stdout",
          "text": [
            "My name is Sulu and age is 31\n"
          ]
        }
      ]
    },
    {
      "cell_type": "code",
      "source": [
        "name=\"Sulu\"\n",
        "age=31\n",
        "degree=\"PG in DSBA\"\n",
        "print(f\"My age is {age} and I have completed: my degree of {degree} with the name of {name}\")"
      ],
      "metadata": {
        "colab": {
          "base_uri": "https://localhost:8080/"
        },
        "id": "hdF9AFlldIgr",
        "outputId": "bf1a9ffb-9372-4f05-d6c6-fa36fb836e70"
      },
      "execution_count": 8,
      "outputs": [
        {
          "output_type": "stream",
          "name": "stdout",
          "text": [
            "My age is 31 and I have completed: my degree of PG in DSBA with the name of Sulu\n"
          ]
        }
      ]
    },
    {
      "cell_type": "code",
      "source": [
        "print(\"My age is {} and I have completed: my degree of {} with the name of {}\".format(age,degree,name))"
      ],
      "metadata": {
        "colab": {
          "base_uri": "https://localhost:8080/"
        },
        "id": "b7SkBqbLeH8s",
        "outputId": "17331538-b935-401b-e400-70edfd92772a"
      },
      "execution_count": 9,
      "outputs": [
        {
          "output_type": "stream",
          "name": "stdout",
          "text": [
            "My age is 31 and I have completed: my degree of PG in DSBA with the name of Sulu\n"
          ]
        }
      ]
    },
    {
      "cell_type": "code",
      "source": [
        "input(\"Age\")"
      ],
      "metadata": {
        "colab": {
          "base_uri": "https://localhost:8080/",
          "height": 53
        },
        "id": "JZEGkDiYeUe7",
        "outputId": "b70c053f-fd6e-4491-df5c-ff8e7434c714"
      },
      "execution_count": 10,
      "outputs": [
        {
          "name": "stdout",
          "output_type": "stream",
          "text": [
            "Age25\n"
          ]
        },
        {
          "output_type": "execute_result",
          "data": {
            "text/plain": [
              "'25'"
            ],
            "application/vnd.google.colaboratory.intrinsic+json": {
              "type": "string"
            }
          },
          "metadata": {},
          "execution_count": 10
        }
      ]
    },
    {
      "cell_type": "code",
      "source": [],
      "metadata": {
        "id": "UGcU1XegXPUX"
      },
      "execution_count": 10,
      "outputs": []
    }
  ]
}